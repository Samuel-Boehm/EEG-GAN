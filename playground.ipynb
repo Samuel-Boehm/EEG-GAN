{
 "cells": [
  {
   "cell_type": "code",
   "execution_count": 109,
   "metadata": {},
   "outputs": [],
   "source": [
    "from dataclasses import dataclass, field, asdict\n",
    "\n",
    "@dataclass\n",
    "class OutputContainer:\n",
    "    generated_data: list = field(init=False)\n",
    "    real_data: list = field(init=False)\n",
    "    y_real: list = field(init=False)\n",
    "    y_fake: list = field(init=False)\n",
    "    loss_generator: list = field(init=False)\n",
    "    loss_critic: list = field(init=False)\n",
    "    loss_sp_critic: list = field(init=False)\n",
    "    gradient_penalty: list = field(init=False)\n",
    "\n",
    "    def clear(self):\n",
    "        for key, value in asdict(self).items():\n",
    "            print(key, value)\n",
    "            if isinstance(value, list):\n",
    "                setattr(self, key, [])\n",
    "                "
   ]
  },
  {
   "cell_type": "code",
   "execution_count": 110,
   "metadata": {},
   "outputs": [],
   "source": [
    "container = OutputContainer()"
   ]
  },
  {
   "cell_type": "code",
   "execution_count": 112,
   "metadata": {},
   "outputs": [],
   "source": [
    "container.generated_data = [1, 2, 3]\n",
    "container.real_data = [4, 5, 6]\n",
    "container.y_real = [7, 8, 9]\n",
    "container.y_fake = [10, 11, 12]\n",
    "container.loss_generator = [13, 14, 15]\n",
    "container.loss_critic = [16, 17, 18]\n",
    "container.loss_sp_critic = [19, 20, 21]\n",
    "container.gradient_penalty = [22, 23, 24]\n"
   ]
  },
  {
   "cell_type": "code",
   "execution_count": 97,
   "metadata": {},
   "outputs": [
    {
     "data": {
      "text/plain": [
       "['__annotations__',\n",
       " '__class__',\n",
       " '__dataclass_fields__',\n",
       " '__dataclass_params__',\n",
       " '__delattr__',\n",
       " '__dict__',\n",
       " '__dir__',\n",
       " '__doc__',\n",
       " '__eq__',\n",
       " '__format__',\n",
       " '__ge__',\n",
       " '__getattribute__',\n",
       " '__gt__',\n",
       " '__hash__',\n",
       " '__init__',\n",
       " '__init_subclass__',\n",
       " '__le__',\n",
       " '__lt__',\n",
       " '__match_args__',\n",
       " '__module__',\n",
       " '__ne__',\n",
       " '__new__',\n",
       " '__reduce__',\n",
       " '__reduce_ex__',\n",
       " '__repr__',\n",
       " '__setattr__',\n",
       " '__sizeof__',\n",
       " '__str__',\n",
       " '__subclasshook__',\n",
       " '__weakref__',\n",
       " 'clear',\n",
       " 'data',\n",
       " 'loss_generator']"
      ]
     },
     "execution_count": 97,
     "metadata": {},
     "output_type": "execute_result"
    }
   ],
   "source": [
    "dir(container)"
   ]
  },
  {
   "cell_type": "code",
   "execution_count": 113,
   "metadata": {},
   "outputs": [
    {
     "name": "stdout",
     "output_type": "stream",
     "text": [
      "generated_data [1, 2, 3]\n",
      "real_data [4, 5, 6]\n",
      "y_real [7, 8, 9]\n",
      "y_fake [10, 11, 12]\n",
      "loss_generator [13, 14, 15]\n",
      "loss_critic [16, 17, 18]\n",
      "loss_sp_critic [19, 20, 21]\n",
      "gradient_penalty [22, 23, 24]\n"
     ]
    }
   ],
   "source": [
    "container.clear()"
   ]
  },
  {
   "cell_type": "code",
   "execution_count": 100,
   "metadata": {},
   "outputs": [],
   "source": [
    "container.data = [1, 2, 3, 4 ,5]"
   ]
  },
  {
   "cell_type": "code",
   "execution_count": 114,
   "metadata": {},
   "outputs": [
    {
     "name": "stdout",
     "output_type": "stream",
     "text": [
      "generated_data []\n",
      "real_data []\n",
      "y_real []\n",
      "y_fake []\n",
      "loss_generator []\n",
      "loss_critic []\n",
      "loss_sp_critic []\n",
      "gradient_penalty []\n"
     ]
    }
   ],
   "source": [
    "container.clear()"
   ]
  },
  {
   "cell_type": "code",
   "execution_count": 67,
   "metadata": {},
   "outputs": [
    {
     "name": "stdout",
     "output_type": "stream",
     "text": [
      "OutputContainer()\n"
     ]
    }
   ],
   "source": [
    "print(container)"
   ]
  },
  {
   "cell_type": "code",
   "execution_count": 105,
   "metadata": {},
   "outputs": [],
   "source": [
    "cont = dict()"
   ]
  },
  {
   "cell_type": "code",
   "execution_count": 106,
   "metadata": {},
   "outputs": [],
   "source": [
    "cont['data'] = [1, 2, 3, 4, 5]"
   ]
  },
  {
   "cell_type": "code",
   "execution_count": 108,
   "metadata": {},
   "outputs": [
    {
     "data": {
      "text/plain": [
       "[1, 2, 3, 4, 5]"
      ]
     },
     "execution_count": 108,
     "metadata": {},
     "output_type": "execute_result"
    }
   ],
   "source": [
    "cont['data']"
   ]
  },
  {
   "cell_type": "code",
   "execution_count": null,
   "metadata": {},
   "outputs": [],
   "source": []
  }
 ],
 "metadata": {
  "kernelspec": {
   "display_name": "eeg-gan",
   "language": "python",
   "name": "python3"
  },
  "language_info": {
   "codemirror_mode": {
    "name": "ipython",
    "version": 3
   },
   "file_extension": ".py",
   "mimetype": "text/x-python",
   "name": "python",
   "nbconvert_exporter": "python",
   "pygments_lexer": "ipython3",
   "version": "3.10.13"
  }
 },
 "nbformat": 4,
 "nbformat_minor": 2
}
