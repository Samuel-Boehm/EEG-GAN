{
 "cells": [
  {
   "cell_type": "code",
   "execution_count": 40,
   "metadata": {},
   "outputs": [],
   "source": [
    "import sys\n",
    "sys.path.append('/home/samuelboehm/reworkedGAN/EEG-GAN/GAN/Data')\n",
    "\n",
    "import joblib\n",
    "from braindecode.models.deep4 import Deep4Net\n",
    "from braindecode import EEGClassifier\n",
    "\n",
    "from skorch.callbacks import LRScheduler\n",
    "from skorch.helper import predefined_split\n",
    "from skorch.dataset import Dataset as skDataset\n",
    "\n",
    "import torch"
   ]
  },
  {
   "cell_type": "code",
   "execution_count": 5,
   "metadata": {},
   "outputs": [],
   "source": [
    "data = torch.load('/home/samuelboehm/reworkedGAN/Data/clinical')"
   ]
  },
  {
   "cell_type": "code",
   "execution_count": 31,
   "metadata": {},
   "outputs": [],
   "source": [
    "splits = data.return_from_tag('split')\n",
    "\n",
    "test_idx = splits['idx'][splits.split == 'test'].values[0]\n",
    "train_idx = splits['idx'][splits.split == 'train'].values[0]"
   ]
  },
  {
   "cell_type": "code",
   "execution_count": 41,
   "metadata": {},
   "outputs": [],
   "source": [
    "valid_set = skDataset(data[test_idx][0], data[test_idx][1])\n",
    "train_set = skDataset(data[train_idx][0], data[train_idx][1])"
   ]
  },
  {
   "cell_type": "code",
   "execution_count": 42,
   "metadata": {},
   "outputs": [],
   "source": [
    "channels = ['Fp1','Fp2','F7','F3','Fz','F4','F8',\n",
    "            'T7','C3','Cz','C4','T8','P7','P3',\n",
    "            'Pz','P4','P8','O1','O2','M1','M2']\n",
    "\n",
    "cuda = torch.cuda.is_available()\n",
    "device = 'cuda' if cuda else 'cpu'\n",
    "if cuda:\n",
    "    torch.backends.cudnn.benchmarch = True\n",
    "\n",
    "n_classes = 2\n",
    "n_chans = len(channels)\n",
    "input_window_samples = train_set[0][0].shape[1]\n",
    "\n",
    "model = Deep4Net(\n",
    "    n_chans,\n",
    "    n_classes,\n",
    "    input_window_samples=input_window_samples,\n",
    "    final_conv_length='auto'\n",
    ")\n",
    "\n",
    "if cuda:\n",
    "    model.cuda()\n",
    "\n",
    "\n",
    "\n",
    "clf = EEGClassifier(\n",
    "    model,\n",
    "    criterion=torch.nn.NLLLoss,\n",
    "    optimizer=torch.optim.AdamW,\n",
    "    train_split=predefined_split(valid_set),  # using valid_set for validation\n",
    "    optimizer__lr=lr,\n",
    "    optimizer__weight_decay=weight_decay,\n",
    "    batch_size=batch_size,\n",
    "    callbacks=[\n",
    "        \"accuracy\", (\"lr_scheduler\", LRScheduler('CosineAnnealingLR', T_max=n_epochs - 1)),\n",
    "    ],\n",
    "    device=device,\n",
    ")\n"
   ]
  },
  {
   "cell_type": "code",
   "execution_count": 43,
   "metadata": {},
   "outputs": [
    {
     "name": "stdout",
     "output_type": "stream",
     "text": [
      "  epoch    train_accuracy    train_loss    valid_accuracy    valid_loss      lr     dur\n",
      "-------  ----------------  ------------  ----------------  ------------  ------  ------\n",
      "      1            \u001b[36m0.5162\u001b[0m        \u001b[32m1.0160\u001b[0m            \u001b[35m0.5027\u001b[0m        \u001b[31m0.8577\u001b[0m  0.0100  7.8251\n",
      "      2            \u001b[36m0.6645\u001b[0m        \u001b[32m0.6988\u001b[0m            \u001b[35m0.6446\u001b[0m        \u001b[31m0.6873\u001b[0m  0.0100  3.8404\n",
      "      3            \u001b[36m0.7442\u001b[0m        \u001b[32m0.6493\u001b[0m            \u001b[35m0.7054\u001b[0m        \u001b[31m0.5612\u001b[0m  0.0100  3.8938\n",
      "      4            \u001b[36m0.8282\u001b[0m        \u001b[32m0.5661\u001b[0m            \u001b[35m0.8232\u001b[0m        \u001b[31m0.3980\u001b[0m  0.0100  3.8652\n",
      "      5            \u001b[36m0.8920\u001b[0m        \u001b[32m0.3902\u001b[0m            \u001b[35m0.8964\u001b[0m        \u001b[31m0.2604\u001b[0m  0.0100  3.8280\n",
      "      6            0.8890        \u001b[32m0.3048\u001b[0m            0.8946        0.2671  0.0100  3.9149\n",
      "      7            \u001b[36m0.9112\u001b[0m        \u001b[32m0.2835\u001b[0m            \u001b[35m0.9098\u001b[0m        \u001b[31m0.2133\u001b[0m  0.0100  3.9271\n",
      "      8            \u001b[36m0.9319\u001b[0m        \u001b[32m0.2520\u001b[0m            \u001b[35m0.9259\u001b[0m        \u001b[31m0.1815\u001b[0m  0.0100  3.9369\n",
      "      9            \u001b[36m0.9424\u001b[0m        \u001b[32m0.2385\u001b[0m            \u001b[35m0.9339\u001b[0m        \u001b[31m0.1692\u001b[0m  0.0100  3.8614\n",
      "     10            \u001b[36m0.9465\u001b[0m        \u001b[32m0.2182\u001b[0m            \u001b[35m0.9500\u001b[0m        \u001b[31m0.1505\u001b[0m  0.0100  3.8473\n",
      "     11            \u001b[36m0.9525\u001b[0m        \u001b[32m0.2012\u001b[0m            0.9455        0.1548  0.0100  3.8696\n",
      "     12            0.9472        \u001b[32m0.1934\u001b[0m            0.9402        0.1713  0.0100  3.8388\n",
      "     13            \u001b[36m0.9530\u001b[0m        \u001b[32m0.1862\u001b[0m            0.9402        0.1640  0.0100  3.9529\n",
      "     14            \u001b[36m0.9674\u001b[0m        \u001b[32m0.1711\u001b[0m            \u001b[35m0.9509\u001b[0m        \u001b[31m0.1301\u001b[0m  0.0100  3.9300\n",
      "     15            0.9612        0.1842            0.9482        0.1383  0.0100  3.8720\n",
      "     16            0.9525        0.1820            0.9420        0.1683  0.0100  3.9535\n",
      "     17            \u001b[36m0.9771\u001b[0m        \u001b[32m0.1674\u001b[0m            \u001b[35m0.9625\u001b[0m        \u001b[31m0.1215\u001b[0m  0.0100  3.9261\n",
      "     18            0.9673        \u001b[32m0.1527\u001b[0m            0.9536        0.1225  0.0100  3.8811\n",
      "     19            \u001b[36m0.9790\u001b[0m        0.1661            0.9616        \u001b[31m0.1088\u001b[0m  0.0100  4.0422\n",
      "     20            0.9712        \u001b[32m0.1477\u001b[0m            0.9527        0.1446  0.0100  3.9313\n",
      "     21            0.9778        \u001b[32m0.1468\u001b[0m            0.9589        0.1206  0.0100  3.9496\n",
      "     22            0.9666        \u001b[32m0.1393\u001b[0m            0.9464        0.1306  0.0100  3.8959\n",
      "     23            0.9776        0.1463            \u001b[35m0.9661\u001b[0m        0.1152  0.0100  3.9779\n",
      "     24            0.9703        \u001b[32m0.1302\u001b[0m            0.9473        0.1512  0.0100  4.0507\n",
      "     25            0.9726        0.1380            0.9554        0.1221  0.0099  3.9948\n",
      "     26            0.9701        \u001b[32m0.1287\u001b[0m            0.9554        0.1179  0.0099  4.0337\n",
      "     27            0.9687        0.1534            0.9473        0.1299  0.0099  4.0511\n",
      "     28            \u001b[36m0.9868\u001b[0m        \u001b[32m0.1267\u001b[0m            0.9643        0.1099  0.0099  3.9496\n",
      "     29            0.9758        \u001b[32m0.1263\u001b[0m            0.9509        0.1330  0.0099  4.0351\n",
      "     30            0.9852        \u001b[32m0.1213\u001b[0m            0.9554        0.1299  0.0099  4.0215\n",
      "     31            0.9840        \u001b[32m0.1136\u001b[0m            0.9536        0.1233  0.0099  4.0331\n",
      "     32            \u001b[36m0.9874\u001b[0m        0.1236            0.9598        \u001b[31m0.0949\u001b[0m  0.0099  3.9886\n"
     ]
    },
    {
     "data": {
      "text/plain": [
       "<class 'braindecode.classifier.EEGClassifier'>[initialized](\n",
       "  module_=Deep4Net(\n",
       "    (ensuredims): Ensure4d()\n",
       "    (dimshuffle): Expression(expression=transpose_time_to_spat) \n",
       "    (conv_time): Conv2d(1, 25, kernel_size=(10, 1), stride=(1, 1))\n",
       "    (conv_spat): Conv2d(25, 25, kernel_size=(1, 21), stride=(1, 1), bias=False)\n",
       "    (bnorm): BatchNorm2d(25, eps=1e-05, momentum=0.1, affine=True, track_running_stats=True)\n",
       "    (conv_nonlin): Expression(expression=elu) \n",
       "    (pool): MaxPool2d(kernel_size=(3, 1), stride=(3, 1), padding=0, dilation=1, ceil_mode=False)\n",
       "    (pool_nonlin): Expression(expression=identity) \n",
       "    (drop_2): Dropout(p=0.5, inplace=False)\n",
       "    (conv_2): Conv2d(25, 50, kernel_size=(10, 1), stride=(1, 1), bias=False)\n",
       "    (bnorm_2): BatchNorm2d(50, eps=1e-05, momentum=0.1, affine=True, track_running_stats=True)\n",
       "    (nonlin_2): Expression(expression=elu) \n",
       "    (pool_2): MaxPool2d(kernel_size=(3, 1), stride=(3, 1), padding=0, dilation=1, ceil_mode=False)\n",
       "    (pool_nonlin_2): Expression(expression=identity) \n",
       "    (drop_3): Dropout(p=0.5, inplace=False)\n",
       "    (conv_3): Conv2d(50, 100, kernel_size=(10, 1), stride=(1, 1), bias=False)\n",
       "    (bnorm_3): BatchNorm2d(100, eps=1e-05, momentum=0.1, affine=True, track_running_stats=True)\n",
       "    (nonlin_3): Expression(expression=elu) \n",
       "    (pool_3): MaxPool2d(kernel_size=(3, 1), stride=(3, 1), padding=0, dilation=1, ceil_mode=False)\n",
       "    (pool_nonlin_3): Expression(expression=identity) \n",
       "    (drop_4): Dropout(p=0.5, inplace=False)\n",
       "    (conv_4): Conv2d(100, 200, kernel_size=(10, 1), stride=(1, 1), bias=False)\n",
       "    (bnorm_4): BatchNorm2d(200, eps=1e-05, momentum=0.1, affine=True, track_running_stats=True)\n",
       "    (nonlin_4): Expression(expression=elu) \n",
       "    (pool_4): MaxPool2d(kernel_size=(3, 1), stride=(3, 1), padding=0, dilation=1, ceil_mode=False)\n",
       "    (pool_nonlin_4): Expression(expression=identity) \n",
       "    (conv_classifier): Conv2d(200, 2, kernel_size=(5, 1), stride=(1, 1))\n",
       "    (softmax): LogSoftmax(dim=1)\n",
       "    (squeeze): Expression(expression=squeeze_final_output) \n",
       "  ),\n",
       ")"
      ]
     },
     "execution_count": 43,
     "metadata": {},
     "output_type": "execute_result"
    }
   ],
   "source": [
    "clf.fit(train_set, y=None, epochs=n_epochs)"
   ]
  },
  {
   "cell_type": "code",
   "execution_count": null,
   "metadata": {},
   "outputs": [],
   "source": []
  }
 ],
 "metadata": {
  "kernelspec": {
   "display_name": "eeggan",
   "language": "python",
   "name": "python3"
  },
  "language_info": {
   "codemirror_mode": {
    "name": "ipython",
    "version": 3
   },
   "file_extension": ".py",
   "mimetype": "text/x-python",
   "name": "python",
   "nbconvert_exporter": "python",
   "pygments_lexer": "ipython3",
   "version": "3.8.13"
  },
  "orig_nbformat": 4
 },
 "nbformat": 4,
 "nbformat_minor": 2
}
